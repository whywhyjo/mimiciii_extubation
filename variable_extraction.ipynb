{
 "cells": [
  {
   "cell_type": "code",
   "execution_count": 1,
   "metadata": {},
   "outputs": [],
   "source": [
    "import pandas as pd\n",
    "from IPython.display import HTML\n",
    "def printmd(string):\n",
    "    from IPython.display import Markdown, display\n",
    "    display(Markdown(string))\n",
    "\n",
    "import numpy as np\n",
    "import pandas as pd\n",
    "import seaborn as sns\n",
    "import matplotlib.pyplot as plt\n",
    "from scipy import stats\n",
    "\n",
    "### postgresql + python ###\n",
    "import psycopg2 as pg2\n",
    "\n",
    "class psql_py:\n",
    "    def __init__(self):\n",
    "        self.conn = self.connect_db()\n",
    "        self.cur = self.conn.cursor()\n",
    "        self.cur.execute(\"set search_path = mimiciii;\") \n",
    "        \n",
    "    def connect_db(self):\n",
    "        try:\n",
    "            conn = pg2.connect(\"host = localhost dbname=mimic user=postgres port=5432\")\n",
    "            #print('database connected')\n",
    "            return conn\n",
    "        except:\n",
    "            print(\"I am unable to connect to the database\")          \n",
    "            \n",
    "    def exe_sql (self, exe_sql_str):\n",
    "        return pd.read_sql(exe_sql_str,self.conn)\n",
    "    \n",
    "    def db_query(self, exe_sql_str, mode='sql'):\n",
    "        if mode == 'pd':\n",
    "            return_pd = self.exe_sql (exe_sql_str)\n",
    "            self.close_db()\n",
    "            return return_pd\n",
    "        else: \n",
    "            self.cur.execute(exe_sql_str)\n",
    "            self.close_db()\n",
    "            \n",
    "    def close_db (self):\n",
    "        self.cur.close()\n",
    "        # commit the changes\n",
    "        self.conn.commit()\n",
    "        #print('database disconnected')\n"
   ]
  },
  {
   "cell_type": "code",
   "execution_count": 98,
   "metadata": {},
   "outputs": [],
   "source": [
    "dict_variable_id = pd.read_csv('./csv/item_ids_dict.csv') # variables related to extubation \n",
    "\n",
    "#supervised by Young-Jae Cho at Seoul National University Bundang Hostpital "
   ]
  },
  {
   "cell_type": "code",
   "execution_count": 112,
   "metadata": {},
   "outputs": [
    {
     "name": "stdout",
     "output_type": "stream",
     "text": [
      "GCS total 198, 226755, 227013\n",
      "GCS-eye opening 220739, 226756, 227011, 184\n",
      "GCS - Verbal Response 223900, 228112, 226758, 227014, 723\n",
      "GCS - Motor Response 223901, 226757, 227012, 454\n",
      "RASS 228096\n"
     ]
    }
   ],
   "source": [
    "db = psql_py() \n",
    "print('extration each variable from chartevent')\n",
    "for i, row in dict_variable_id.iterrows(): #from chartevent\n",
    "    var_name = row['name']\n",
    "    var_name = var_name.replace('\\b/','_')\n",
    "    var_id = row['id']\n",
    "    str_sql = ('select chartevents.icustay_id, chartevents.itemid, chartevents.charttime, chartevents.value '+\n",
    "               'from chartevents, ptsinfo_vent '+ \n",
    "               'where chartevents.icustay_id = ptsinfo_vent.icustay_id and itemid in ('+str(var_id)+\n",
    "              ') and ptsinfo_vent.admittime <= chartevents.charttime and ptsinfo_vent.dischtime >= chartevents.charttime')\n",
    "    var_record = db.db_query(str_sql,'pd')\n",
    "    var_record.to_csv('./variable/chartevent_var_'+var_name+'.csv')\n",
    "    print(var_name,var_id)\n",
    "    \n",
    "print('extration each variable from labevent')    \n",
    "for i, row in dict_variable_id.iterrows(): #from labevent\n",
    "    var_name = row['name']\n",
    "    var_name = var_name.replace('\\b/','_')\n",
    "    var_id = row['id']\n",
    "    str_sql = ('select labevents.subject_id, labevents.itemid,labevents.charttime, labevents.value from labevents, ptsinfo_vent\n",
    "                ' where labevents.subject_id = ptsinfo_vent.subject_id and itemid in ('+str(var_id)+\n",
    "              ')and ptsinfo_vent.admittime <= labevents.charttime and ptsinfo_vent.dischtime >= labevents.charttime')\n",
    "    var_record = db.db_query(str_sql,'pd')\n",
    "    if len(var_record)>0:\n",
    "        var_record.to_csv('./variable/chartevent_var_'+var_name+'.csv')\n",
    "    print(var_name,var_id)\n",
    "    \n",
    "    "
   ]
  }
 ],
 "metadata": {
  "kernelspec": {
   "display_name": "Python 3",
   "language": "python",
   "name": "python3"
  },
  "language_info": {
   "codemirror_mode": {
    "name": "ipython",
    "version": 3
   },
   "file_extension": ".py",
   "mimetype": "text/x-python",
   "name": "python",
   "nbconvert_exporter": "python",
   "pygments_lexer": "ipython3",
   "version": "3.7.3"
  },
  "toc": {
   "base_numbering": 1,
   "nav_menu": {},
   "number_sections": true,
   "sideBar": true,
   "skip_h1_title": false,
   "title_cell": "Table of Contents",
   "title_sidebar": "Contents",
   "toc_cell": false,
   "toc_position": {},
   "toc_section_display": true,
   "toc_window_display": false
  },
  "varInspector": {
   "cols": {
    "lenName": 16,
    "lenType": 16,
    "lenVar": 40
   },
   "kernels_config": {
    "python": {
     "delete_cmd_postfix": "",
     "delete_cmd_prefix": "del ",
     "library": "var_list.py",
     "varRefreshCmd": "print(var_dic_list())"
    },
    "r": {
     "delete_cmd_postfix": ") ",
     "delete_cmd_prefix": "rm(",
     "library": "var_list.r",
     "varRefreshCmd": "cat(var_dic_list()) "
    }
   },
   "types_to_exclude": [
    "module",
    "function",
    "builtin_function_or_method",
    "instance",
    "_Feature"
   ],
   "window_display": false
  }
 },
 "nbformat": 4,
 "nbformat_minor": 2
}
