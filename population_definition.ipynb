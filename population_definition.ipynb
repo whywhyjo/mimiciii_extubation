{
 "cells": [
  {
   "cell_type": "code",
   "execution_count": 2,
   "metadata": {},
   "outputs": [],
   "source": [
    "import pandas as pd\n",
    "from IPython.display import HTML\n",
    "def printmd(string):\n",
    "    from IPython.display import Markdown, display\n",
    "    display(Markdown(string))\n",
    "\n",
    "import numpy as np\n",
    "import pandas as pd\n",
    "import seaborn as sns\n",
    "import matplotlib.pyplot as plt\n",
    "from scipy import stats\n",
    "\n",
    "### postgresql + python ###\n",
    "import psycopg2 as pg2\n",
    "\n",
    "class psql_py:\n",
    "    def __init__(self):\n",
    "        self.conn = self.connect_db()\n",
    "        self.cur = self.conn.cursor()\n",
    "        self.cur.execute(\"set search_path = mimiciii;\") \n",
    "        \n",
    "    def connect_db(self):\n",
    "        try:\n",
    "            conn = pg2.connect(\"host = localhost dbname=mimic user=postgres port=5432\")\n",
    "            #print('database connected')\n",
    "            return conn\n",
    "        except:\n",
    "            print(\"I am unable to connect to the database\")          \n",
    "            \n",
    "    def exe_sql (self, exe_sql_str):\n",
    "        return pd.read_sql(exe_sql_str,self.conn)\n",
    "    \n",
    "    def db_query(self, exe_sql_str, mode='sql'):\n",
    "        if mode == 'pd':\n",
    "            return_pd = self.exe_sql (exe_sql_str)\n",
    "            self.close_db()\n",
    "            return return_pd\n",
    "        else: \n",
    "            self.cur.execute(exe_sql_str)\n",
    "            self.close_db()\n",
    "            \n",
    "    def close_db (self):\n",
    "        self.cur.close()\n",
    "        # commit the changes\n",
    "        self.conn.commit()\n",
    "        #print('database disconnected')\n"
   ]
  },
  {
   "cell_type": "markdown",
   "metadata": {},
   "source": [
    "\n"
   ]
  },
  {
   "cell_type": "code",
   "execution_count": 20,
   "metadata": {},
   "outputs": [
    {
     "data": {
      "text/markdown": [
       "## Population Based on [mimic-code](https://github.com/MIT-LCP/mimic-code/blob/master/concepts/durations/ventilation-durations.sql) \n",
       "- Patients using a ventilation extracted by [code](https://github.com/yyjo0430/mimiciii_extubation/tree/master/sql)"
      ],
      "text/plain": [
       "<IPython.core.display.Markdown object>"
      ]
     },
     "metadata": {},
     "output_type": "display_data"
    },
    {
     "data": {
      "text/markdown": [
       "#### Population: 38465"
      ],
      "text/plain": [
       "<IPython.core.display.Markdown object>"
      ]
     },
     "metadata": {},
     "output_type": "display_data"
    }
   ],
   "source": [
    "\n",
    "printmd('## Population Based on [mimic-code](https://github.com/MIT-LCP/mimic-code/blob/master/concepts/durations/ventilation-durations.sql) \\n' +\n",
    "            '- Patients using a ventilation extracted by [code](https://github.com/yyjo0430/mimiciii_extubation/tree/master/sql)'\n",
    "       )\n",
    "\n",
    "db = psql_py() \n",
    "str_sql = 'select * from ventdurations'\n",
    "a = db.db_query(str_sql,'pd')\n",
    "total = len(a)\n",
    "printmd('#### Population: '+ str(total))"
   ]
  },
  {
   "cell_type": "markdown",
   "metadata": {},
   "source": [
    "   - The ventilation number (*ventnum*) means the sequence number of use of the single mechanical ventilation \n",
    "    \n",
    "        - The use of the single mechanical ventilation is defined as a set of records where the interval time between adjacent two records is not over 8 hours\n"
   ]
  },
  {
   "cell_type": "code",
   "execution_count": 12,
   "metadata": {},
   "outputs": [
    {
     "data": {
      "text/markdown": [
       "### Exclusion 1\n",
       "- 신호 이상치 제거 \n",
       "    - extubation, self-extubation, oxygentherapy가 명시적으로 적혀있지 않는 경우 \n",
       "    - vent 신호만 있는 경우"
      ],
      "text/plain": [
       "<IPython.core.display.Markdown object>"
      ]
     },
     "metadata": {},
     "output_type": "display_data"
    },
    {
     "name": "stdout",
     "output_type": "stream",
     "text": [
      "Population:  33040 , excluded [ 5425 ]\n"
     ]
    },
    {
     "data": {
      "text/html": [
       "<div>\n",
       "<style scoped>\n",
       "    .dataframe tbody tr th:only-of-type {\n",
       "        vertical-align: middle;\n",
       "    }\n",
       "\n",
       "    .dataframe tbody tr th {\n",
       "        vertical-align: top;\n",
       "    }\n",
       "\n",
       "    .dataframe thead th {\n",
       "        text-align: right;\n",
       "    }\n",
       "</style>\n",
       "<table border=\"1\" class=\"dataframe\">\n",
       "  <thead>\n",
       "    <tr style=\"text-align: right;\">\n",
       "      <th></th>\n",
       "      <th>icustay_id</th>\n",
       "      <th>hadm_id</th>\n",
       "      <th>subject_id</th>\n",
       "      <th>gender</th>\n",
       "      <th>birth_time</th>\n",
       "      <th>extu_age</th>\n",
       "      <th>admittime</th>\n",
       "      <th>ventnum</th>\n",
       "      <th>vent_on_time</th>\n",
       "      <th>vent_off_time</th>\n",
       "      <th>duration_hours</th>\n",
       "      <th>unplanned</th>\n",
       "      <th>tra_used</th>\n",
       "      <th>trache_time</th>\n",
       "      <th>dischtime</th>\n",
       "      <th>death_time</th>\n",
       "      <th>death</th>\n",
       "    </tr>\n",
       "  </thead>\n",
       "  <tbody>\n",
       "    <tr>\n",
       "      <th>8520</th>\n",
       "      <td>225617</td>\n",
       "      <td>184942</td>\n",
       "      <td>16106</td>\n",
       "      <td>F</td>\n",
       "      <td>2039-10-01</td>\n",
       "      <td>85.34</td>\n",
       "      <td>2125-01-31 05:44:00</td>\n",
       "      <td>1</td>\n",
       "      <td>2125-02-01 22:19:00</td>\n",
       "      <td>2125-02-06 11:24:00</td>\n",
       "      <td>109.083333</td>\n",
       "      <td>0</td>\n",
       "      <td>0</td>\n",
       "      <td>NaT</td>\n",
       "      <td>2125-02-09 13:41:00</td>\n",
       "      <td>2129-09-21</td>\n",
       "      <td>0</td>\n",
       "    </tr>\n",
       "    <tr>\n",
       "      <th>13519</th>\n",
       "      <td>240823</td>\n",
       "      <td>176342</td>\n",
       "      <td>53435</td>\n",
       "      <td>M</td>\n",
       "      <td>2116-12-10</td>\n",
       "      <td>83.54</td>\n",
       "      <td>2200-06-24 14:35:00</td>\n",
       "      <td>1</td>\n",
       "      <td>2200-06-24 17:00:00</td>\n",
       "      <td>2200-06-29 09:00:00</td>\n",
       "      <td>112.000000</td>\n",
       "      <td>0</td>\n",
       "      <td>0</td>\n",
       "      <td>NaT</td>\n",
       "      <td>2200-07-22 22:05:00</td>\n",
       "      <td>2200-07-22</td>\n",
       "      <td>0</td>\n",
       "    </tr>\n",
       "    <tr>\n",
       "      <th>13391</th>\n",
       "      <td>240393</td>\n",
       "      <td>199224</td>\n",
       "      <td>64350</td>\n",
       "      <td>M</td>\n",
       "      <td>2119-09-22</td>\n",
       "      <td>51.81</td>\n",
       "      <td>2171-07-16 21:22:00</td>\n",
       "      <td>1</td>\n",
       "      <td>2171-07-16 21:00:00</td>\n",
       "      <td>2171-07-19 14:44:00</td>\n",
       "      <td>65.733333</td>\n",
       "      <td>0</td>\n",
       "      <td>0</td>\n",
       "      <td>NaT</td>\n",
       "      <td>2171-07-27 14:00:00</td>\n",
       "      <td>NaT</td>\n",
       "      <td>0</td>\n",
       "    </tr>\n",
       "    <tr>\n",
       "      <th>18152</th>\n",
       "      <td>255074</td>\n",
       "      <td>166280</td>\n",
       "      <td>59507</td>\n",
       "      <td>F</td>\n",
       "      <td>2049-01-31</td>\n",
       "      <td>77.53</td>\n",
       "      <td>2126-08-13 04:09:00</td>\n",
       "      <td>1</td>\n",
       "      <td>2126-08-14 13:00:00</td>\n",
       "      <td>2126-08-15 03:00:00</td>\n",
       "      <td>14.000000</td>\n",
       "      <td>0</td>\n",
       "      <td>0</td>\n",
       "      <td>NaT</td>\n",
       "      <td>2126-09-07 13:55:00</td>\n",
       "      <td>2126-09-12</td>\n",
       "      <td>0</td>\n",
       "    </tr>\n",
       "    <tr>\n",
       "      <th>22701</th>\n",
       "      <td>268325</td>\n",
       "      <td>165634</td>\n",
       "      <td>23110</td>\n",
       "      <td>F</td>\n",
       "      <td>2117-08-29</td>\n",
       "      <td>78.48</td>\n",
       "      <td>2196-02-17 15:15:00</td>\n",
       "      <td>1</td>\n",
       "      <td>2196-02-19 15:00:00</td>\n",
       "      <td>2196-02-20 09:00:00</td>\n",
       "      <td>18.000000</td>\n",
       "      <td>0</td>\n",
       "      <td>0</td>\n",
       "      <td>NaT</td>\n",
       "      <td>2196-02-25 12:30:00</td>\n",
       "      <td>NaT</td>\n",
       "      <td>0</td>\n",
       "    </tr>\n",
       "  </tbody>\n",
       "</table>\n",
       "</div>"
      ],
      "text/plain": [
       "       icustay_id  hadm_id  subject_id gender birth_time  extu_age  \\\n",
       "8520       225617   184942       16106      F 2039-10-01     85.34   \n",
       "13519      240823   176342       53435      M 2116-12-10     83.54   \n",
       "13391      240393   199224       64350      M 2119-09-22     51.81   \n",
       "18152      255074   166280       59507      F 2049-01-31     77.53   \n",
       "22701      268325   165634       23110      F 2117-08-29     78.48   \n",
       "\n",
       "                admittime  ventnum        vent_on_time       vent_off_time  \\\n",
       "8520  2125-01-31 05:44:00        1 2125-02-01 22:19:00 2125-02-06 11:24:00   \n",
       "13519 2200-06-24 14:35:00        1 2200-06-24 17:00:00 2200-06-29 09:00:00   \n",
       "13391 2171-07-16 21:22:00        1 2171-07-16 21:00:00 2171-07-19 14:44:00   \n",
       "18152 2126-08-13 04:09:00        1 2126-08-14 13:00:00 2126-08-15 03:00:00   \n",
       "22701 2196-02-17 15:15:00        1 2196-02-19 15:00:00 2196-02-20 09:00:00   \n",
       "\n",
       "       duration_hours  unplanned  tra_used trache_time           dischtime  \\\n",
       "8520       109.083333          0         0         NaT 2125-02-09 13:41:00   \n",
       "13519      112.000000          0         0         NaT 2200-07-22 22:05:00   \n",
       "13391       65.733333          0         0         NaT 2171-07-27 14:00:00   \n",
       "18152       14.000000          0         0         NaT 2126-09-07 13:55:00   \n",
       "22701       18.000000          0         0         NaT 2196-02-25 12:30:00   \n",
       "\n",
       "      death_time  death  \n",
       "8520  2129-09-21      0  \n",
       "13519 2200-07-22      0  \n",
       "13391        NaT      0  \n",
       "18152 2126-09-12      0  \n",
       "22701        NaT      0  "
      ]
     },
     "metadata": {},
     "output_type": "display_data"
    }
   ],
   "source": [
    "printmd('### Exclusion 1\\n' +\n",
    "'- 신호 이상치 제거 \\n\\\n",
    "    - extubation, self-extubation, oxygentherapy가 명시적으로 적혀있지 않는 경우 \\n\\\n",
    "    - vent 신호만 있는 경우'\n",
    ")\n",
    "\n",
    "db = psql_py() \n",
    "str_sql = 'select * from ptsinfo_vent'\n",
    "case1 = db.db_query(str_sql,'pd')\n",
    "case1 = case1.sort_values(['icustay_id','ventnum','vent_on_time','vent_off_time']).reset_index(drop=True)\n",
    "case1 = case1.dropna(subset=['icustay_id'])\n",
    "case1.icustay_id = case1.icustay_id.astype(int)\n",
    "num_case1 = len(case1)\n",
    "print('Population: ',num_case1, ', excluded [',total-num_case1,']')\n",
    "display(case1.sample(5))"
   ]
  },
  {
   "cell_type": "code",
   "execution_count": null,
   "metadata": {},
   "outputs": [],
   "source": [
    "printmd('### Exclusion 2\\n' +\n",
    "'- 나이: 미성년 및 89세 이상 제거 \\n'\n",
    ")\n",
    "str_sql = 'select * from icustay_info_v3'\n",
    "case2 = db.db_query(str_sql,'pd')\n",
    "case2= case2.sort_values(['icustay_id','ventnum','vent_on_time','vent_off_time']).reset_index(drop=True)\n",
    "case2 = case2.dropna(subset=['icustay_id'])\n",
    "case2.icustay_id = case2.icustay_id.astype(int)\n",
    "case2 = case2[(case2.extu_age>15 )& (case2.extu_age<90)].sort_values('icustay_id')\n",
    "num_case2 = len(case2)\n",
    "printmd('#### Population: '+ str(num_case2) + ', excluded ['+str(num_case1-num_case2)+']')\n"
   ]
  },
  {
   "cell_type": "code",
   "execution_count": null,
   "metadata": {},
   "outputs": [],
   "source": [
    "printmd('### Exclusion 3\\n' +\n",
    "'- Tracheostomy: tracheostymy 사용 환자 제거 \\n\\\n",
    "    - 이형숙 선생님이 보내주신 것을 기반 \\n\\\n",
    "    - itemid: 940,970, 977, 1022, 1120,4603,4441,687, 689, 690,691,692,1832,1855,1948, \\\n",
    "        5646,2877,2993,6151,8287,6375, 7118,7286,7474,7528,8479,6898 \\n\\\n",
    "    - 특정 변수 명가진 itemid 제거 \\n\\\n",
    "    (itemid = 687 and (value = refused or value = Not Done)) or \\\n",
    "    (itemid = 940 and (value = no or value =  notdone)) or \\\n",
    "    (itemid = 970 and (value = NOTDONE or value = notdone)) or \\\n",
    "    (itemid = 8479 and (value = No or value = Not Applicable))'        \n",
    ")\n",
    "case3 = case2.copy()\n",
    "case3 = case3[case3.trache==0]\n",
    "num_case3 = len(case3)\n",
    "printmd('#### Population: '+ str(num_case3) + ', excluded ['+str(num_case2-num_case3)+']')\n"
   ]
  },
  {
   "cell_type": "code",
   "execution_count": null,
   "metadata": {},
   "outputs": [],
   "source": [
    "printmd('### Exclusion 4\\n' +\n",
    "'- DEATH: vent 사용중 죽은 환자 제거'    \n",
    ")\n",
    "case4 = case3.copy()\n",
    "case4 = case4[case4.death==0]\n",
    "num_case4 = len(case4)\n",
    "printmd('#### Population: '+ str(num_case4) + ', excluded ['+str(num_case3-num_case4)+']')\n"
   ]
  },
  {
   "cell_type": "code",
   "execution_count": null,
   "metadata": {},
   "outputs": [],
   "source": [
    "case4.head()"
   ]
  },
  {
   "cell_type": "code",
   "execution_count": null,
   "metadata": {},
   "outputs": [],
   "source": [
    "printmd('### Exclusion 5\\n' +\n",
    "'- Period: 1시간 이내 사용자 제거 (변경될 수 있음)'    \n",
    ")\n",
    "case5 = case4.copy()\n",
    "case5 = case5[(case5.duration_hours>1)]\n",
    "num_case5 = len(case5)\n",
    "printmd('#### Population: '+ str(num_case5) + ', excluded ['+str(num_case4-num_case5)+']')\n"
   ]
  },
  {
   "cell_type": "code",
   "execution_count": null,
   "metadata": {},
   "outputs": [],
   "source": [
    "printmd(\n",
    "        '### Exclusion 6\\n' +\n",
    "        '- ventnum starting number ==1'    \n",
    ")\n",
    "case6 = case5.groupby('icustay_id').filter(lambda x:x['ventnum'].min()==1)\n",
    "\n",
    "\n",
    "num_case6 = len(case6)\n",
    "printmd('#### Population: '+ str(num_case6) + ', excluded ['+str(num_case5-num_case6)+']')"
   ]
  },
  {
   "cell_type": "code",
   "execution_count": null,
   "metadata": {},
   "outputs": [],
   "source": [
    "len(case6.icustay_id.unique())"
   ]
  },
  {
   "cell_type": "code",
   "execution_count": null,
   "metadata": {},
   "outputs": [],
   "source": [
    "case6.reset_index(drop=True).to_csv('./190323_finalized_population_real.csv')"
   ]
  }
 ],
 "metadata": {
  "kernelspec": {
   "display_name": "Python 3",
   "language": "python",
   "name": "python3"
  },
  "language_info": {
   "codemirror_mode": {
    "name": "ipython",
    "version": 3
   },
   "file_extension": ".py",
   "mimetype": "text/x-python",
   "name": "python",
   "nbconvert_exporter": "python",
   "pygments_lexer": "ipython3",
   "version": "3.7.3"
  },
  "toc": {
   "base_numbering": 1,
   "nav_menu": {},
   "number_sections": false,
   "sideBar": true,
   "skip_h1_title": false,
   "title_cell": "Table of Contents",
   "title_sidebar": "Contents",
   "toc_cell": false,
   "toc_position": {},
   "toc_section_display": true,
   "toc_window_display": false
  },
  "varInspector": {
   "cols": {
    "lenName": 16,
    "lenType": 16,
    "lenVar": 40
   },
   "kernels_config": {
    "python": {
     "delete_cmd_postfix": "",
     "delete_cmd_prefix": "del ",
     "library": "var_list.py",
     "varRefreshCmd": "print(var_dic_list())"
    },
    "r": {
     "delete_cmd_postfix": ") ",
     "delete_cmd_prefix": "rm(",
     "library": "var_list.r",
     "varRefreshCmd": "cat(var_dic_list()) "
    }
   },
   "types_to_exclude": [
    "module",
    "function",
    "builtin_function_or_method",
    "instance",
    "_Feature"
   ],
   "window_display": false
  }
 },
 "nbformat": 4,
 "nbformat_minor": 2
}
