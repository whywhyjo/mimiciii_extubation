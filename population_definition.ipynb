{
 "cells": [
  {
   "cell_type": "code",
   "execution_count": 1,
   "metadata": {},
   "outputs": [
    {
     "data": {
      "text/html": [
       "<script>\n",
       "code_show=true; \n",
       "function code_toggle() {\n",
       " if (code_show){\n",
       " $('div.input').hide();\n",
       " } else {\n",
       " $('div.input').show();\n",
       " }\n",
       " code_show = !code_show\n",
       "} \n",
       "$( document ).ready(code_toggle);\n",
       "</script>\n",
       "<form action=\"javascript:code_toggle()\"><input type=\"submit\" value=\"Click here to toggle on/off the raw code.\"></form>\n"
      ],
      "text/plain": [
       "<IPython.core.display.HTML object>"
      ]
     },
     "metadata": {},
     "output_type": "display_data"
    }
   ],
   "source": [
    "%%html\n",
    "<script>\n",
    "code_show=true; \n",
    "function code_toggle() {\n",
    " if (code_show){\n",
    " $('div.input').hide();\n",
    " } else {\n",
    " $('div.input').show();\n",
    " }\n",
    " code_show = !code_show\n",
    "} \n",
    "$( document ).ready(code_toggle);\n",
    "</script>\n",
    "<form action=\"javascript:code_toggle()\"><input type=\"submit\" value=\"Click here to toggle on/off the raw code.\"></form>"
   ]
  },
  {
   "cell_type": "code",
   "execution_count": 2,
   "metadata": {},
   "outputs": [],
   "source": [
    "import pandas as pd\n",
    "from IPython.display import HTML\n",
    "def printmd(string):\n",
    "    from IPython.display import Markdown, display\n",
    "    display(Markdown(string))\n",
    "\n",
    "import numpy as np\n",
    "import pandas as pd\n",
    "import seaborn as sns\n",
    "import matplotlib.pyplot as plt\n",
    "from scipy import stats\n",
    "\n",
    "### postgresql + python ###\n",
    "import psycopg2 as pg2\n",
    "\n",
    "class psql_py:\n",
    "    def __init__(self):\n",
    "        self.conn = self.connect_db()\n",
    "        self.cur = self.conn.cursor()\n",
    "        self.cur.execute(\"set search_path = mimiciii;\") \n",
    "        \n",
    "    def connect_db(self):\n",
    "        try:\n",
    "            conn = pg2.connect(\"host = localhost dbname=mimic user=postgres port=5432\")\n",
    "            #print('database connected')\n",
    "            return conn\n",
    "        except:\n",
    "            print(\"I am unable to connect to the database\")          \n",
    "            \n",
    "    def exe_sql (self, exe_sql_str):\n",
    "        return pd.read_sql(exe_sql_str,self.conn)\n",
    "    \n",
    "    def db_query(self, exe_sql_str, mode='sql'):\n",
    "        if mode == 'pd':\n",
    "            return_pd = self.exe_sql (exe_sql_str)\n",
    "            self.close_db()\n",
    "            return return_pd\n",
    "        else: \n",
    "            self.cur.execute(exe_sql_str)\n",
    "            self.close_db()\n",
    "            \n",
    "    def close_db (self):\n",
    "        self.cur.close()\n",
    "        # commit the changes\n",
    "        self.conn.commit()\n",
    "        #print('database disconnected')\n"
   ]
  },
  {
   "cell_type": "code",
   "execution_count": 3,
   "metadata": {},
   "outputs": [
    {
     "name": "stdout",
     "output_type": "stream",
     "text": [
      "execution complete: ventilation-durations_mod.sql\n",
      "execution complete: ventduration_on_off_time.sql\n",
      "execution complete: ptsinfo_vent.sql\n"
     ]
    },
    {
     "data": {
      "text/markdown": [
       "## Population using a ventilation extracted by [code](https://github.com/yyjo0430/mimiciii_extubation/tree/master/sql/ventilation-durations_mod.sql): 26801 patients \n",
       "- ### Based on [mimic-code](https://github.com/MIT-LCP/mimic-code/blob/master/concepts/durations/ventilation-durations.sql) \n"
      ],
      "text/plain": [
       "<IPython.core.display.Markdown object>"
      ]
     },
     "metadata": {},
     "output_type": "display_data"
    }
   ],
   "source": [
    "db = psql_py() \n",
    "db.cur.execute(open('./sql/ventilation-durations_mod.sql','r').read())\n",
    "print('execution complete: ventilation-durations_mod.sql')\n",
    "db.cur.execute(open('./sql/ventduration_on_off_time.sql','r').read())\n",
    "print('execution complete: ventduration_on_off_time.sql')\n",
    "db.cur.execute(open('./sql/ptsinfo_vent.sql','r').read())\n",
    "print('execution complete: ptsinfo_vent.sql')\n",
    "\n",
    "str_sql = 'select * from ventdurations'\n",
    "temp = db.db_query(str_sql,'pd')\n",
    "total = len(temp.icustay_id.unique())\n",
    "printmd('## Population using a ventilation extracted by [code](https://github.com/yyjo0430/mimiciii_extubation/tree/master/sql/ventilation-durations_mod.sql): '\n",
    "        + str(total)+ ' patients \\n'+\n",
    "        '- ### Based on [mimic-code](https://github.com/MIT-LCP/mimic-code/blob/master/concepts/durations/ventilation-durations.sql) \\n' )\n",
    "\n",
    "\n"
   ]
  },
  {
   "cell_type": "code",
   "execution_count": 4,
   "metadata": {},
   "outputs": [
    {
     "data": {
      "text/markdown": [
       "### Exclusion 1 - Population: 23518, excluded 3283 patients \n",
       "- Excluded patient with records with missing values in variables such as extubation, self-extubation, oxygentherapy, and so on"
      ],
      "text/plain": [
       "<IPython.core.display.Markdown object>"
      ]
     },
     "metadata": {},
     "output_type": "display_data"
    },
    {
     "data": {
      "text/html": [
       "<div>\n",
       "<style scoped>\n",
       "    .dataframe tbody tr th:only-of-type {\n",
       "        vertical-align: middle;\n",
       "    }\n",
       "\n",
       "    .dataframe tbody tr th {\n",
       "        vertical-align: top;\n",
       "    }\n",
       "\n",
       "    .dataframe thead th {\n",
       "        text-align: right;\n",
       "    }\n",
       "</style>\n",
       "<table border=\"1\" class=\"dataframe\">\n",
       "  <thead>\n",
       "    <tr style=\"text-align: right;\">\n",
       "      <th></th>\n",
       "      <th>icustay_id</th>\n",
       "      <th>hadm_id</th>\n",
       "      <th>subject_id</th>\n",
       "      <th>gender</th>\n",
       "      <th>birth_time</th>\n",
       "      <th>extu_age</th>\n",
       "      <th>admittime</th>\n",
       "      <th>ventnum</th>\n",
       "      <th>vent_on_time</th>\n",
       "      <th>vent_off_time</th>\n",
       "      <th>duration_hours</th>\n",
       "      <th>unplanned</th>\n",
       "      <th>tra_used</th>\n",
       "      <th>trache_time</th>\n",
       "      <th>dischtime</th>\n",
       "      <th>death_time</th>\n",
       "      <th>death</th>\n",
       "    </tr>\n",
       "  </thead>\n",
       "  <tbody>\n",
       "    <tr>\n",
       "      <th>4583</th>\n",
       "      <td>213875</td>\n",
       "      <td>198791</td>\n",
       "      <td>6241</td>\n",
       "      <td>F</td>\n",
       "      <td>2090-09-11</td>\n",
       "      <td>87.01</td>\n",
       "      <td>2177-09-16 22:44:00</td>\n",
       "      <td>1</td>\n",
       "      <td>2177-09-16 23:00:00</td>\n",
       "      <td>2177-09-27 02:00:00</td>\n",
       "      <td>243.000000</td>\n",
       "      <td>0</td>\n",
       "      <td>1</td>\n",
       "      <td>2177-09-25 15:20:00</td>\n",
       "      <td>2177-09-30 13:47:00</td>\n",
       "      <td>2177-11-06</td>\n",
       "      <td>0</td>\n",
       "    </tr>\n",
       "    <tr>\n",
       "      <th>15487</th>\n",
       "      <td>246842</td>\n",
       "      <td>181561</td>\n",
       "      <td>40239</td>\n",
       "      <td>F</td>\n",
       "      <td>2027-09-08</td>\n",
       "      <td>80.83</td>\n",
       "      <td>2108-07-06 07:15:00</td>\n",
       "      <td>1</td>\n",
       "      <td>2108-07-06 11:30:00</td>\n",
       "      <td>2108-07-06 16:18:00</td>\n",
       "      <td>4.800000</td>\n",
       "      <td>0</td>\n",
       "      <td>0</td>\n",
       "      <td>NaT</td>\n",
       "      <td>2108-07-10 12:58:00</td>\n",
       "      <td>NaT</td>\n",
       "      <td>0</td>\n",
       "    </tr>\n",
       "    <tr>\n",
       "      <th>16835</th>\n",
       "      <td>250857</td>\n",
       "      <td>125598</td>\n",
       "      <td>26895</td>\n",
       "      <td>F</td>\n",
       "      <td>2109-09-08</td>\n",
       "      <td>75.61</td>\n",
       "      <td>2185-04-06 19:33:00</td>\n",
       "      <td>1</td>\n",
       "      <td>2185-04-17 13:30:00</td>\n",
       "      <td>2185-04-18 12:45:00</td>\n",
       "      <td>23.250000</td>\n",
       "      <td>0</td>\n",
       "      <td>0</td>\n",
       "      <td>NaT</td>\n",
       "      <td>2185-05-25 14:30:00</td>\n",
       "      <td>2185-05-28</td>\n",
       "      <td>0</td>\n",
       "    </tr>\n",
       "    <tr>\n",
       "      <th>6548</th>\n",
       "      <td>219545</td>\n",
       "      <td>112575</td>\n",
       "      <td>78241</td>\n",
       "      <td>M</td>\n",
       "      <td>2084-07-29</td>\n",
       "      <td>65.82</td>\n",
       "      <td>2150-05-23 16:18:00</td>\n",
       "      <td>1</td>\n",
       "      <td>2150-05-24 06:00:00</td>\n",
       "      <td>2150-05-24 06:14:00</td>\n",
       "      <td>0.233333</td>\n",
       "      <td>0</td>\n",
       "      <td>0</td>\n",
       "      <td>NaT</td>\n",
       "      <td>2150-05-24 14:45:00</td>\n",
       "      <td>2150-05-24</td>\n",
       "      <td>1</td>\n",
       "    </tr>\n",
       "    <tr>\n",
       "      <th>28063</th>\n",
       "      <td>284432</td>\n",
       "      <td>146687</td>\n",
       "      <td>7781</td>\n",
       "      <td>M</td>\n",
       "      <td>2030-05-02</td>\n",
       "      <td>72.60</td>\n",
       "      <td>2102-12-04 14:00:00</td>\n",
       "      <td>1</td>\n",
       "      <td>2102-12-06 18:21:00</td>\n",
       "      <td>2102-12-08 10:00:00</td>\n",
       "      <td>39.650000</td>\n",
       "      <td>0</td>\n",
       "      <td>0</td>\n",
       "      <td>NaT</td>\n",
       "      <td>2103-01-01 18:05:00</td>\n",
       "      <td>2104-08-19</td>\n",
       "      <td>0</td>\n",
       "    </tr>\n",
       "  </tbody>\n",
       "</table>\n",
       "</div>"
      ],
      "text/plain": [
       "       icustay_id  hadm_id  subject_id gender birth_time  extu_age  \\\n",
       "4583       213875   198791        6241      F 2090-09-11     87.01   \n",
       "15487      246842   181561       40239      F 2027-09-08     80.83   \n",
       "16835      250857   125598       26895      F 2109-09-08     75.61   \n",
       "6548       219545   112575       78241      M 2084-07-29     65.82   \n",
       "28063      284432   146687        7781      M 2030-05-02     72.60   \n",
       "\n",
       "                admittime  ventnum        vent_on_time       vent_off_time  \\\n",
       "4583  2177-09-16 22:44:00        1 2177-09-16 23:00:00 2177-09-27 02:00:00   \n",
       "15487 2108-07-06 07:15:00        1 2108-07-06 11:30:00 2108-07-06 16:18:00   \n",
       "16835 2185-04-06 19:33:00        1 2185-04-17 13:30:00 2185-04-18 12:45:00   \n",
       "6548  2150-05-23 16:18:00        1 2150-05-24 06:00:00 2150-05-24 06:14:00   \n",
       "28063 2102-12-04 14:00:00        1 2102-12-06 18:21:00 2102-12-08 10:00:00   \n",
       "\n",
       "       duration_hours  unplanned  tra_used         trache_time  \\\n",
       "4583       243.000000          0         1 2177-09-25 15:20:00   \n",
       "15487        4.800000          0         0                 NaT   \n",
       "16835       23.250000          0         0                 NaT   \n",
       "6548         0.233333          0         0                 NaT   \n",
       "28063       39.650000          0         0                 NaT   \n",
       "\n",
       "                dischtime death_time  death  \n",
       "4583  2177-09-30 13:47:00 2177-11-06      0  \n",
       "15487 2108-07-10 12:58:00        NaT      0  \n",
       "16835 2185-05-25 14:30:00 2185-05-28      0  \n",
       "6548  2150-05-24 14:45:00 2150-05-24      1  \n",
       "28063 2103-01-01 18:05:00 2104-08-19      0  "
      ]
     },
     "metadata": {},
     "output_type": "display_data"
    }
   ],
   "source": [
    "db = psql_py() \n",
    "str_sql = 'select * from ptsinfo_vent'\n",
    "case_missing = db.db_query(str_sql,'pd')\n",
    "case_missing = case_missing.sort_values(['icustay_id','ventnum','vent_on_time','vent_off_time']).reset_index(drop=True)\n",
    "case_missing = case_missing.dropna(subset=['icustay_id'])\n",
    "case_missing.icustay_id = case_missing.icustay_id.astype(int)\n",
    "num_case_missing = len(case_missing.icustay_id.unique())\n",
    "\n",
    "printmd('### Exclusion 1 - Population: '+str(num_case_missing) + ', excluded '+ str(total-num_case_missing)+' patients \\n' +\n",
    "'- Excluded patient with records with missing values in variables such as extubation, self-extubation, oxygentherapy, and so on'      \n",
    ")\n",
    "display(case_missing.sample(5))\n"
   ]
  },
  {
   "cell_type": "code",
   "execution_count": 5,
   "metadata": {},
   "outputs": [
    {
     "data": {
      "text/markdown": [
       "### Exclusion 2 - Population: 21783, excluded 1735 patients \n",
       "- Only adult: >15 & <89  \n"
      ],
      "text/plain": [
       "<IPython.core.display.Markdown object>"
      ]
     },
     "metadata": {},
     "output_type": "display_data"
    }
   ],
   "source": [
    "case_adult = case_missing.copy()\n",
    "case_adult = case_adult[(case_adult.extu_age>15 )& (case_adult.extu_age<90)].sort_values('icustay_id')\n",
    "num_case_adult = len(case_adult.icustay_id.unique())\n",
    "printmd('### Exclusion 2 - Population: '+ str(num_case_adult) + ', excluded '+str(num_case_missing-num_case_adult)+' patients '+ '\\n' +\n",
    "'- Only adult: >15 & <89  \\n'\n",
    ")\n",
    "\n"
   ]
  },
  {
   "cell_type": "code",
   "execution_count": 6,
   "metadata": {},
   "outputs": [
    {
     "data": {
      "text/markdown": [
       "### Exclusion 3 - Population: 21585, excluded 198  patients \n",
       "- Excluded the unplanned extubation cases"
      ],
      "text/plain": [
       "<IPython.core.display.Markdown object>"
      ]
     },
     "metadata": {},
     "output_type": "display_data"
    }
   ],
   "source": [
    "case_unplan = case_adult.copy()\n",
    "case_unplan = case_unplan[case_unplan.unplanned==0]\n",
    "num_case_unplan = len(case_unplan.icustay_id.unique())\n",
    "\n",
    "printmd('### Exclusion 3 - Population: '+ str(num_case_unplan) + ', excluded '+str(num_case_adult-num_case_unplan)+'  patients \\n' + \n",
    "'- Excluded the unplanned extubation cases')\n"
   ]
  },
  {
   "cell_type": "code",
   "execution_count": 7,
   "metadata": {},
   "outputs": [
    {
     "data": {
      "text/markdown": [
       "### Exclusion 4 - Population: 21391, excluded 194 patients \n",
       "- Excluded patient using the tracheostomy"
      ],
      "text/plain": [
       "<IPython.core.display.Markdown object>"
      ]
     },
     "metadata": {},
     "output_type": "display_data"
    }
   ],
   "source": [
    "case_tra = case_unplan.copy()\n",
    "case_tra = case_tra[case_tra.tra_used==0]\n",
    "num_case_tra = len(case_tra.icustay_id.unique())\n",
    "\n",
    "printmd('### Exclusion 4 - Population: '+ str(num_case_tra) + ', excluded '+str(num_case_unplan-num_case_tra)+' patients \\n' +\n",
    "'- Excluded patient using the tracheostomy')\n",
    "\n"
   ]
  },
  {
   "cell_type": "code",
   "execution_count": 8,
   "metadata": {},
   "outputs": [
    {
     "data": {
      "text/markdown": [
       "### Exclusion 5 - Population: 20692, excluded 699 patients \n",
       "- Excluded the dead"
      ],
      "text/plain": [
       "<IPython.core.display.Markdown object>"
      ]
     },
     "metadata": {},
     "output_type": "display_data"
    }
   ],
   "source": [
    "case_death = case_tra.copy()\n",
    "case_death = case_death[case_death.death==0]\n",
    "num_case_death = len(case_death.icustay_id.unique())\n",
    "printmd('### Exclusion 5 - Population: '+ str(num_case_death) + ', excluded '+str(num_case_tra-num_case_death)+' patients \\n' +\n",
    "'- Excluded the dead'    \n",
    ")\n"
   ]
  },
  {
   "cell_type": "code",
   "execution_count": 9,
   "metadata": {},
   "outputs": [
    {
     "data": {
      "text/markdown": [
       "### Exclusion 6 - Population: 20038, excluded 654 patients\n",
       "- Excluded patients with short period (<1 hour) for the use of the mechanical ventilation"
      ],
      "text/plain": [
       "<IPython.core.display.Markdown object>"
      ]
     },
     "metadata": {},
     "output_type": "display_data"
    }
   ],
   "source": [
    "case_period = case_death.copy()\n",
    "case_period = case_period[(case_period.duration_hours>1)]\n",
    "num_case_period = len(case_period.icustay_id.unique())\n",
    "printmd('### Exclusion 6 - Population: '+ str(num_case_period) + ', excluded '+str(num_case_death-num_case_period)+' patients\\n' +\n",
    "'- Excluded patients with short period (<1 hour) for the use of the mechanical ventilation'    \n",
    ")\n"
   ]
  },
  {
   "cell_type": "code",
   "execution_count": 10,
   "metadata": {},
   "outputs": [
    {
     "data": {
      "text/markdown": [
       "### Exclusion 7 - Population: 19015, excluded 1023 patients \n",
       "- Excluded patients where the starting ventnum is 1 \n",
       "\t - The ventilation number (*ventnum*) means the sequence number of use of the mechanical ventilation \n",
       "\t\t - The use of the single mechanical ventilation is defined as a set of records where the interval time between adjacent two records is not over 8 hours"
      ],
      "text/plain": [
       "<IPython.core.display.Markdown object>"
      ]
     },
     "metadata": {},
     "output_type": "display_data"
    }
   ],
   "source": [
    "case_ventnum = case_period.groupby('icustay_id').filter(lambda x:x['ventnum'].min()==1)\n",
    "num_case_ventnum = len(case_ventnum.icustay_id.unique())\n",
    "printmd('### Exclusion 7 - Population: '+ str(num_case_ventnum) + ', excluded '+str(num_case_period-num_case_ventnum)+' patients \\n' +\n",
    "        '- Excluded patients where the starting ventnum is 1 \\n'+\n",
    "        '\\t - The ventilation number (*ventnum*) means the sequence number of use of the mechanical ventilation \\n' +    \n",
    "        '\\t\\t - The use of the single mechanical ventilation is defined as a set of records where the interval time between adjacent two records is not over 8 hours'\n",
    ")\n"
   ]
  },
  {
   "cell_type": "code",
   "execution_count": 11,
   "metadata": {},
   "outputs": [
    {
     "data": {
      "image/png": "[encoded data removed]",
      "text/plain": [
       "<Figure size 864x432 with 1 Axes>"
      ]
     },
     "metadata": {
      "needs_background": "light"
     },
     "output_type": "display_data"
    }
   ],
   "source": [
    "import matplotlib.pyplot as plt\n",
    "a =case_ventnum.ventnum.value_counts().sort_index()\n",
    "f, ax = plt.subplots(figsize=(12,6))\n",
    "plt.bar(a.index,a.values,align='center', alpha=0.5)\n",
    "plt.xlabel('Ventnum')\n",
    "plt.ylabel('#patients')\n",
    "plt.title('Distribution of Patients depending on Ventnum ')\n",
    "plt.show()\n"
   ]
  }
 ],
 "metadata": {
  "hide_input": true,
  "kernelspec": {
   "display_name": "Python 3",
   "language": "python",
   "name": "python3"
  },
  "language_info": {
   "codemirror_mode": {
    "name": "ipython",
    "version": 3
   },
   "file_extension": ".py",
   "mimetype": "text/x-python",
   "name": "python",
   "nbconvert_exporter": "python",
   "pygments_lexer": "ipython3",
   "version": "3.7.3"
  },
  "toc": {
   "base_numbering": 1,
   "nav_menu": {},
   "number_sections": false,
   "sideBar": true,
   "skip_h1_title": false,
   "title_cell": "Table of Contents",
   "title_sidebar": "Contents",
   "toc_cell": false,
   "toc_position": {},
   "toc_section_display": true,
   "toc_window_display": false
  },
  "varInspector": {
   "cols": {
    "lenName": 16,
    "lenType": 16,
    "lenVar": 40
   },
   "kernels_config": {
    "python": {
     "delete_cmd_postfix": "",
     "delete_cmd_prefix": "del ",
     "library": "var_list.py",
     "varRefreshCmd": "print(var_dic_list())"
    },
    "r": {
     "delete_cmd_postfix": ") ",
     "delete_cmd_prefix": "rm(",
     "library": "var_list.r",
     "varRefreshCmd": "cat(var_dic_list()) "
    }
   },
   "types_to_exclude": [
    "module",
    "function",
    "builtin_function_or_method",
    "instance",
    "_Feature"
   ],
   "window_display": false
  }
 },
 "nbformat": 4,
 "nbformat_minor": 2
}
