{
 "cells": [
  {
   "cell_type": "code",
   "execution_count": 12,
   "metadata": {},
   "outputs": [
    {
     "data": {
      "text/html": [
       "<script>\n",
       "code_show=true; \n",
       "function code_toggle() {\n",
       " if (code_show){\n",
       " $('div.input').hide();\n",
       " } else {\n",
       " $('div.input').show();\n",
       " }\n",
       " code_show = !code_show\n",
       "} \n",
       "$( document ).ready(code_toggle);\n",
       "</script>\n",
       "<form action=\"javascript:code_toggle()\"><input type=\"submit\" value=\"Click here to toggle on/off the raw code.\"></form>\n"
      ],
      "text/plain": [
       "<IPython.core.display.HTML object>"
      ]
     },
     "metadata": {},
     "output_type": "display_data"
    }
   ],
   "source": [
    "%%html\n",
    "<script>\n",
    "code_show=true; \n",
    "function code_toggle() {\n",
    " if (code_show){\n",
    " $('div.input').hide();\n",
    " } else {\n",
    " $('div.input').show();\n",
    " }\n",
    " code_show = !code_show\n",
    "} \n",
    "$( document ).ready(code_toggle);\n",
    "</script>\n",
    "<form action=\"javascript:code_toggle()\"><input type=\"submit\" value=\"Click here to toggle on/off the raw code.\"></form>"
   ]
  },
  {
   "cell_type": "code",
   "execution_count": 2,
   "metadata": {},
   "outputs": [],
   "source": [
    "import pandas as pd\n",
    "import warnings\n",
    "warnings.filterwarnings('ignore')\n",
    "from IPython.display import HTML\n",
    "def printmd(string):\n",
    "    from IPython.display import Markdown, display\n",
    "    display(Markdown(string))\n",
    "\n",
    "import numpy as np\n",
    "import pandas as pd\n",
    "import seaborn as sns\n",
    "import matplotlib.pyplot as plt\n",
    "from scipy import stats\n",
    "\n",
    "### postgresql + python ###\n",
    "import psycopg2 as pg2\n",
    "\n",
    "class psql_py:\n",
    "    def __init__(self):\n",
    "        self.conn = self.connect_db()\n",
    "        self.cur = self.conn.cursor()\n",
    "        self.cur.execute(\"set search_path = mimiciii;\") \n",
    "        \n",
    "    def connect_db(self):\n",
    "        try:\n",
    "            conn = pg2.connect(\"host = localhost dbname=mimic user=postgres port=5432\")\n",
    "            #print('database connected')\n",
    "            return conn\n",
    "        except:\n",
    "            print(\"I am unable to connect to the database\")          \n",
    "            \n",
    "    def exe_sql (self, exe_sql_str):\n",
    "        return pd.read_sql(exe_sql_str,self.conn)\n",
    "    \n",
    "    def db_query(self, exe_sql_str, mode='sql'):\n",
    "        if mode == 'pd':\n",
    "            return_pd = self.exe_sql (exe_sql_str)\n",
    "            self.close_db()\n",
    "            return return_pd\n",
    "        else: \n",
    "            self.cur.execute(exe_sql_str)\n",
    "            self.close_db()\n",
    "            \n",
    "    def close_db (self):\n",
    "        self.cur.close()\n",
    "        # commit the changes\n",
    "        self.conn.commit()\n",
    "        #print('database disconnected')\n"
   ]
  },
  {
   "cell_type": "code",
   "execution_count": 3,
   "metadata": {},
   "outputs": [
    {
     "name": "stdout",
     "output_type": "stream",
     "text": [
      "execution complete: ventilation-durations_mod.sql\n",
      "execution complete: ventduration_on_off_time.sql\n",
      "execution complete: ptsinfo_vent.sql\n"
     ]
    },
    {
     "data": {
      "text/markdown": [
       "## Population using a ventilation extracted by [code](https://github.com/yyjo0430/mimiciii_extubation/tree/master/sql/ventilation-durations_mod.sql): 26801 patients \n",
       "- ### Based on [mimic-code](https://github.com/MIT-LCP/mimic-code/blob/master/concepts/durations/ventilation-durations.sql) \n"
      ],
      "text/plain": [
       "<IPython.core.display.Markdown object>"
      ]
     },
     "metadata": {},
     "output_type": "display_data"
    }
   ],
   "source": [
    "db = psql_py() \n",
    "db.cur.execute(open('./sql/ventilation-durations_mod.sql','r').read())\n",
    "print('execution complete: ventilation-durations_mod.sql')\n",
    "db.cur.execute(open('./sql/ventduration_on_off_time.sql','r').read())\n",
    "print('execution complete: ventduration_on_off_time.sql')\n",
    "db.cur.execute(open('./sql/ptsinfo_vent.sql','r').read())\n",
    "print('execution complete: ptsinfo_vent.sql')\n",
    "\n",
    "str_sql = 'select * from ventdurations'\n",
    "temp = db.db_query(str_sql,'pd')\n",
    "total = len(temp.icustay_id.unique())\n",
    "printmd('## Population using a ventilation extracted by [code](https://github.com/yyjo0430/mimiciii_extubation/tree/master/sql/ventilation-durations_mod.sql): '\n",
    "        + str(total)+ ' patients \\n'+\n",
    "        '- ### Based on [mimic-code](https://github.com/MIT-LCP/mimic-code/blob/master/concepts/durations/ventilation-durations.sql) \\n' )\n",
    "\n",
    "\n"
   ]
  },
  {
   "cell_type": "code",
   "execution_count": 4,
   "metadata": {},
   "outputs": [
    {
     "data": {
      "text/markdown": [
       "### Exclusion 1 - Population: 21557, excluded 5244 patients \n",
       "- Excluded patient with records with missing values in variables such as extubation, self-extubation, oxygentherapy, and so on"
      ],
      "text/plain": [
       "<IPython.core.display.Markdown object>"
      ]
     },
     "metadata": {},
     "output_type": "display_data"
    },
    {
     "data": {
      "text/html": [
       "<div>\n",
       "<style scoped>\n",
       "    .dataframe tbody tr th:only-of-type {\n",
       "        vertical-align: middle;\n",
       "    }\n",
       "\n",
       "    .dataframe tbody tr th {\n",
       "        vertical-align: top;\n",
       "    }\n",
       "\n",
       "    .dataframe thead th {\n",
       "        text-align: right;\n",
       "    }\n",
       "</style>\n",
       "<table border=\"1\" class=\"dataframe\">\n",
       "  <thead>\n",
       "    <tr style=\"text-align: right;\">\n",
       "      <th></th>\n",
       "      <th>icustay_id</th>\n",
       "      <th>hadm_id</th>\n",
       "      <th>subject_id</th>\n",
       "      <th>gender</th>\n",
       "      <th>birth_time</th>\n",
       "      <th>extu_age</th>\n",
       "      <th>admittime</th>\n",
       "      <th>ventnum</th>\n",
       "      <th>vent_on_time</th>\n",
       "      <th>vent_off_time</th>\n",
       "      <th>duration_hours</th>\n",
       "      <th>unplanned</th>\n",
       "      <th>tra_used</th>\n",
       "      <th>trache_time</th>\n",
       "      <th>dischtime</th>\n",
       "      <th>death_time</th>\n",
       "      <th>death</th>\n",
       "    </tr>\n",
       "  </thead>\n",
       "  <tbody>\n",
       "    <tr>\n",
       "      <th>13841</th>\n",
       "      <td>247391</td>\n",
       "      <td>161187</td>\n",
       "      <td>68916</td>\n",
       "      <td>F</td>\n",
       "      <td>2085-02-15</td>\n",
       "      <td>85.79</td>\n",
       "      <td>2170-11-29 18:16:00</td>\n",
       "      <td>1</td>\n",
       "      <td>2170-11-30 15:00:00</td>\n",
       "      <td>2170-12-08 14:00:00</td>\n",
       "      <td>191.000000</td>\n",
       "      <td>0</td>\n",
       "      <td>0</td>\n",
       "      <td>NaT</td>\n",
       "      <td>2170-12-25 17:15:00</td>\n",
       "      <td>NaT</td>\n",
       "      <td>0</td>\n",
       "    </tr>\n",
       "    <tr>\n",
       "      <th>17066</th>\n",
       "      <td>258315</td>\n",
       "      <td>172892</td>\n",
       "      <td>23097</td>\n",
       "      <td>M</td>\n",
       "      <td>2107-08-22</td>\n",
       "      <td>77.34</td>\n",
       "      <td>2184-11-29 19:15:00</td>\n",
       "      <td>2</td>\n",
       "      <td>2184-12-23 09:07:00</td>\n",
       "      <td>2184-12-28 08:30:00</td>\n",
       "      <td>119.383333</td>\n",
       "      <td>0</td>\n",
       "      <td>0</td>\n",
       "      <td>2185-01-03 20:00:00</td>\n",
       "      <td>2185-01-21 12:00:00</td>\n",
       "      <td>2185-01-29</td>\n",
       "      <td>0</td>\n",
       "    </tr>\n",
       "    <tr>\n",
       "      <th>16290</th>\n",
       "      <td>255740</td>\n",
       "      <td>133707</td>\n",
       "      <td>11504</td>\n",
       "      <td>F</td>\n",
       "      <td>2140-09-22</td>\n",
       "      <td>0.02</td>\n",
       "      <td>2140-09-22 07:27:00</td>\n",
       "      <td>3</td>\n",
       "      <td>2140-09-29 17:00:00</td>\n",
       "      <td>2140-10-08 13:00:00</td>\n",
       "      <td>212.000000</td>\n",
       "      <td>0</td>\n",
       "      <td>0</td>\n",
       "      <td>2140-10-12 19:00:00</td>\n",
       "      <td>2140-12-21 13:30:00</td>\n",
       "      <td>NaT</td>\n",
       "      <td>0</td>\n",
       "    </tr>\n",
       "    <tr>\n",
       "      <th>21599</th>\n",
       "      <td>273640</td>\n",
       "      <td>132869</td>\n",
       "      <td>22220</td>\n",
       "      <td>F</td>\n",
       "      <td>2136-12-01</td>\n",
       "      <td>0.09</td>\n",
       "      <td>2136-12-01 08:24:00</td>\n",
       "      <td>3</td>\n",
       "      <td>2137-01-04 11:00:00</td>\n",
       "      <td>2137-01-07 08:00:00</td>\n",
       "      <td>69.000000</td>\n",
       "      <td>0</td>\n",
       "      <td>0</td>\n",
       "      <td>2136-12-08 20:00:00</td>\n",
       "      <td>2137-02-24 18:40:00</td>\n",
       "      <td>NaT</td>\n",
       "      <td>0</td>\n",
       "    </tr>\n",
       "    <tr>\n",
       "      <th>18503</th>\n",
       "      <td>263042</td>\n",
       "      <td>187326</td>\n",
       "      <td>19082</td>\n",
       "      <td>F</td>\n",
       "      <td>1869-10-30</td>\n",
       "      <td>300.00</td>\n",
       "      <td>2169-10-30 04:28:00</td>\n",
       "      <td>1</td>\n",
       "      <td>2169-10-30 05:00:00</td>\n",
       "      <td>2169-11-02 10:30:00</td>\n",
       "      <td>77.500000</td>\n",
       "      <td>0</td>\n",
       "      <td>0</td>\n",
       "      <td>NaT</td>\n",
       "      <td>2169-11-06 19:45:00</td>\n",
       "      <td>2169-11-10</td>\n",
       "      <td>0</td>\n",
       "    </tr>\n",
       "  </tbody>\n",
       "</table>\n",
       "</div>"
      ],
      "text/plain": [
       "       icustay_id  hadm_id  subject_id gender birth_time  extu_age  \\\n",
       "13841      247391   161187       68916      F 2085-02-15     85.79   \n",
       "17066      258315   172892       23097      M 2107-08-22     77.34   \n",
       "16290      255740   133707       11504      F 2140-09-22      0.02   \n",
       "21599      273640   132869       22220      F 2136-12-01      0.09   \n",
       "18503      263042   187326       19082      F 1869-10-30    300.00   \n",
       "\n",
       "                admittime  ventnum        vent_on_time       vent_off_time  \\\n",
       "13841 2170-11-29 18:16:00        1 2170-11-30 15:00:00 2170-12-08 14:00:00   \n",
       "17066 2184-11-29 19:15:00        2 2184-12-23 09:07:00 2184-12-28 08:30:00   \n",
       "16290 2140-09-22 07:27:00        3 2140-09-29 17:00:00 2140-10-08 13:00:00   \n",
       "21599 2136-12-01 08:24:00        3 2137-01-04 11:00:00 2137-01-07 08:00:00   \n",
       "18503 2169-10-30 04:28:00        1 2169-10-30 05:00:00 2169-11-02 10:30:00   \n",
       "\n",
       "       duration_hours  unplanned  tra_used         trache_time  \\\n",
       "13841      191.000000          0         0                 NaT   \n",
       "17066      119.383333          0         0 2185-01-03 20:00:00   \n",
       "16290      212.000000          0         0 2140-10-12 19:00:00   \n",
       "21599       69.000000          0         0 2136-12-08 20:00:00   \n",
       "18503       77.500000          0         0                 NaT   \n",
       "\n",
       "                dischtime death_time  death  \n",
       "13841 2170-12-25 17:15:00        NaT      0  \n",
       "17066 2185-01-21 12:00:00 2185-01-29      0  \n",
       "16290 2140-12-21 13:30:00        NaT      0  \n",
       "21599 2137-02-24 18:40:00        NaT      0  \n",
       "18503 2169-11-06 19:45:00 2169-11-10      0  "
      ]
     },
     "metadata": {},
     "output_type": "display_data"
    }
   ],
   "source": [
    "db = psql_py() \n",
    "str_sql = 'select * from ptsinfo_vent'\n",
    "case_missing = db.db_query(str_sql,'pd')\n",
    "case_missing = case_missing.sort_values(['icustay_id','ventnum','vent_on_time','vent_off_time']).reset_index(drop=True)\n",
    "case_missing = case_missing.dropna(subset=['icustay_id'])\n",
    "case_missing.icustay_id = case_missing.icustay_id.astype(int)\n",
    "num_case_missing = len(case_missing.icustay_id.unique())\n",
    "\n",
    "printmd('### Exclusion 1 - Population: '+str(num_case_missing) + ', excluded '+ str(total-num_case_missing)+' patients \\n' +\n",
    "'- Excluded patient with records with missing values in variables such as extubation, self-extubation, oxygentherapy, and so on'      \n",
    ")\n",
    "display(case_missing.sample(5))\n"
   ]
  },
  {
   "cell_type": "code",
   "execution_count": 5,
   "metadata": {},
   "outputs": [
    {
     "data": {
      "text/markdown": [
       "### Exclusion 2 - Population: 20182, excluded 1375 patients \n",
       "- Only adult: >15 & <89  \n"
      ],
      "text/plain": [
       "<IPython.core.display.Markdown object>"
      ]
     },
     "metadata": {},
     "output_type": "display_data"
    }
   ],
   "source": [
    "case_adult = case_missing.copy()\n",
    "case_adult = case_adult[(case_adult.extu_age>15 )& (case_adult.extu_age<90)].sort_values('icustay_id')\n",
    "num_case_adult = len(case_adult.icustay_id.unique())\n",
    "printmd('### Exclusion 2 - Population: '+ str(num_case_adult) + ', excluded '+str(num_case_missing-num_case_adult)+' patients '+ '\\n' +\n",
    "'- Only adult: >15 & <89  \\n'\n",
    ")\n",
    "\n"
   ]
  },
  {
   "cell_type": "code",
   "execution_count": 6,
   "metadata": {},
   "outputs": [
    {
     "data": {
      "text/markdown": [
       "### Exclusion 3 - Population: 19995, excluded 187  patients \n",
       "- Excluded the unplanned extubation cases"
      ],
      "text/plain": [
       "<IPython.core.display.Markdown object>"
      ]
     },
     "metadata": {},
     "output_type": "display_data"
    }
   ],
   "source": [
    "case_unplan = case_adult.copy()\n",
    "case_unplan = case_unplan[case_unplan.unplanned==0]\n",
    "num_case_unplan = len(case_unplan.icustay_id.unique())\n",
    "\n",
    "printmd('### Exclusion 3 - Population: '+ str(num_case_unplan) + ', excluded '+str(num_case_adult-num_case_unplan)+'  patients \\n' + \n",
    "'- Excluded the unplanned extubation cases')\n"
   ]
  },
  {
   "cell_type": "code",
   "execution_count": 7,
   "metadata": {},
   "outputs": [
    {
     "data": {
      "text/markdown": [
       "### Exclusion 4 - Population: 19806, excluded 189 patients \n",
       "- Excluded patient using the tracheostomy"
      ],
      "text/plain": [
       "<IPython.core.display.Markdown object>"
      ]
     },
     "metadata": {},
     "output_type": "display_data"
    }
   ],
   "source": [
    "case_tra = case_unplan.copy()\n",
    "case_tra = case_tra[case_tra.tra_used==0]\n",
    "num_case_tra = len(case_tra.icustay_id.unique())\n",
    "\n",
    "printmd('### Exclusion 4 - Population: '+ str(num_case_tra) + ', excluded '+str(num_case_unplan-num_case_tra)+' patients \\n' +\n",
    "'- Excluded patient using the tracheostomy')\n",
    "\n"
   ]
  },
  {
   "cell_type": "code",
   "execution_count": 8,
   "metadata": {},
   "outputs": [
    {
     "data": {
      "text/markdown": [
       "### Exclusion 5 - Population: 19296, excluded 510 patients \n",
       "- Excluded the dead"
      ],
      "text/plain": [
       "<IPython.core.display.Markdown object>"
      ]
     },
     "metadata": {},
     "output_type": "display_data"
    }
   ],
   "source": [
    "case_death = case_tra.copy()\n",
    "case_death = case_death[case_death.death==0]\n",
    "num_case_death = len(case_death.icustay_id.unique())\n",
    "printmd('### Exclusion 5 - Population: '+ str(num_case_death) + ', excluded '+str(num_case_tra-num_case_death)+' patients \\n' +\n",
    "'- Excluded the dead'    \n",
    ")\n"
   ]
  },
  {
   "cell_type": "code",
   "execution_count": 9,
   "metadata": {},
   "outputs": [
    {
     "data": {
      "text/markdown": [
       "### Exclusion 6 - Population: 18916, excluded 380 patients\n",
       "- Excluded patients with short period (<1 hour) for the use of the mechanical ventilation"
      ],
      "text/plain": [
       "<IPython.core.display.Markdown object>"
      ]
     },
     "metadata": {},
     "output_type": "display_data"
    }
   ],
   "source": [
    "case_period = case_death.copy()\n",
    "case_period = case_period[(case_period.duration_hours>1)]\n",
    "num_case_period = len(case_period.icustay_id.unique())\n",
    "printmd('### Exclusion 6 - Population: '+ str(num_case_period) + ', excluded '+str(num_case_death-num_case_period)+' patients\\n' +\n",
    "'- Excluded patients with short period (<1 hour) for the use of the mechanical ventilation'    \n",
    ")\n"
   ]
  },
  {
   "cell_type": "code",
   "execution_count": 10,
   "metadata": {},
   "outputs": [
    {
     "data": {
      "text/markdown": [
       "### Exclusion 7 - Population: 17686, excluded 1230 patients \n",
       "- Excluded patients whose starting ventnum is not 1 (missing for the trial to the first macheical vailtiation) and is greater than 2 (multiple trials to use the macheical vailtiation) \n",
       "\t - The ventilation number (*ventnum*) means the sequence number of use of the mechanical ventilation \n",
       "\t\t - The each single mechanical ventilation is defined as a set of records where the interval time between adjacent two records is not over 8 hours"
      ],
      "text/plain": [
       "<IPython.core.display.Markdown object>"
      ]
     },
     "metadata": {},
     "output_type": "display_data"
    }
   ],
   "source": [
    "case_ventnum = case_period.groupby(['hadm_id','icustay_id']).filter(lambda x:x['ventnum'].min()==1)\n",
    "case_ventnum = case_ventnum.drop(case_ventnum[case_ventnum['ventnum'] >2]['icustay_id'].index)\n",
    "num_case_ventnum = len(case_ventnum.icustay_id.unique())\n",
    "printmd('### Exclusion 7 - Population: '+ str(num_case_ventnum) + ', excluded '+str(num_case_period-num_case_ventnum)+' patients \\n' +\n",
    "        '- Excluded patients whose starting ventnum is not 1 (missing for the trial to the first macheical vailtiation) '+\n",
    "        'and is greater than 2 (multiple trials to use the macheical vailtiation) \\n' +\n",
    "        '\\t - The ventilation number (*ventnum*) means the sequence number of use of the mechanical ventilation \\n' +    \n",
    "        '\\t\\t - The each single mechanical ventilation is defined as a set of records where the interval time between adjacent two records is not over 8 hours'\n",
    ")\n"
   ]
  },
  {
   "cell_type": "code",
   "execution_count": 18,
   "metadata": {},
   "outputs": [
    {
     "data": {
      "text/markdown": [
       "## Outcome: the extubation failure"
      ],
      "text/plain": [
       "<IPython.core.display.Markdown object>"
      ]
     },
     "metadata": {},
     "output_type": "display_data"
    },
    {
     "data": {
      "text/markdown": [
       "- Re-intubation within 12 hours"
      ],
      "text/plain": [
       "<IPython.core.display.Markdown object>"
      ]
     },
     "metadata": {},
     "output_type": "display_data"
    },
    {
     "data": {
      "text/markdown": [
       "### Control: 16716\n",
       "### Case: 970\n",
       "- Patients with 2 more trials 1881"
      ],
      "text/plain": [
       "<IPython.core.display.Markdown object>"
      ]
     },
     "metadata": {},
     "output_type": "display_data"
    }
   ],
   "source": [
    "printmd('## Outcome: the extubation failure')\n",
    "printmd('- Re-intubation within 12 hours')\n",
    "temp_id = (case_ventnum.groupby(['icustay_id'])['ventnum'].count()>1) ## > 2 trials \n",
    "temp_id = temp_id[temp_id==True].index\n",
    "out_cand = case_ventnum[case_ventnum['icustay_id'].isin(temp_id)].sort_values(['icustay_id','ventnum'])\n",
    "threshold_id = out_cand.groupby(['icustay_id']).apply(lambda x : (x['vent_on_time'].iloc[1] - x['vent_off_time'].iloc[0])\n",
    "                                      /np.timedelta64(1,'h')\n",
    "                                      )>12 ## threshold\n",
    "outcome_ids = threshold_id[threshold_id==True].index\n",
    "case_outcome= case_ventnum.copy()\n",
    "\n",
    "case_outcome['outcome'] = 0\n",
    "case_outcome['outcome'][(case_outcome['icustay_id'].isin(outcome_ids)) \n",
    "                       #&(case_outcome['ventnum']==1)\n",
    "                       ]=1\n",
    "printmd('### Control: '+str(len(set(case_outcome['icustay_id'][case_outcome['outcome']==0])))+'\\n'\n",
    "        '### Case: '+str(len(set(case_outcome['icustay_id'][case_outcome['outcome']==1]))) +'\\n'+\n",
    "        '- Patients with 2 more trials '+str(len(set(temp_id)))\n",
    "       )\n",
    "\n"
   ]
  }
 ],
 "metadata": {
  "hide_input": true,
  "kernelspec": {
   "display_name": "Python 3",
   "language": "python",
   "name": "python3"
  },
  "language_info": {
   "codemirror_mode": {
    "name": "ipython",
    "version": 3
   },
   "file_extension": ".py",
   "mimetype": "text/x-python",
   "name": "python",
   "nbconvert_exporter": "python",
   "pygments_lexer": "ipython3",
   "version": "3.7.3"
  },
  "toc": {
   "base_numbering": 1,
   "nav_menu": {},
   "number_sections": false,
   "sideBar": true,
   "skip_h1_title": false,
   "title_cell": "Table of Contents",
   "title_sidebar": "Contents",
   "toc_cell": false,
   "toc_position": {},
   "toc_section_display": true,
   "toc_window_display": false
  },
  "varInspector": {
   "cols": {
    "lenName": 16,
    "lenType": 16,
    "lenVar": 40
   },
   "kernels_config": {
    "python": {
     "delete_cmd_postfix": "",
     "delete_cmd_prefix": "del ",
     "library": "var_list.py",
     "varRefreshCmd": "print(var_dic_list())"
    },
    "r": {
     "delete_cmd_postfix": ") ",
     "delete_cmd_prefix": "rm(",
     "library": "var_list.r",
     "varRefreshCmd": "cat(var_dic_list()) "
    }
   },
   "types_to_exclude": [
    "module",
    "function",
    "builtin_function_or_method",
    "instance",
    "_Feature"
   ],
   "window_display": false
  }
 },
 "nbformat": 4,
 "nbformat_minor": 2
}
